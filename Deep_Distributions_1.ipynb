{
 "cells": [
  {
   "cell_type": "code",
   "execution_count": 1,
   "metadata": {},
   "outputs": [],
   "source": [
    "import numpy as np\n",
    "import matplotlib.pyplot as plt\n",
    "import pandas as pd\n",
    "import seaborn as sns\n",
    "sns.set_style(\"white\")"
   ]
  },
  {
   "cell_type": "markdown",
   "metadata": {},
   "source": [
    "### Function to generate data from one distribution"
   ]
  },
  {
   "cell_type": "code",
   "execution_count": 2,
   "metadata": {},
   "outputs": [],
   "source": [
    "def gen_data(n_sample=50,dist='uniform',random_var=0):\n",
    "    \"\"\"\n",
    "    Generates data points for a desired distributions and return as numpy array\n",
    "    \"\"\"\n",
    "    \n",
    "    if dist=='uniform':\n",
    "        d=np.random.random(size=n_sample)\n",
    "    if dist=='normal':\n",
    "        d=np.random.normal(loc=1-random_var,scale=1+random_var,size=n_sample)\n",
    "    if dist=='binomial':\n",
    "        d=np.random.binomial(n=10,p=0.5+random_var/10,size=n_sample)\n",
    "    if dist=='exponential':\n",
    "        d=np.random.exponential(scale=0.5+random_var,size=n_sample)\n",
    "    if dist=='poisson':\n",
    "        d=np.random.poisson(lam=1.0+random_var,size=n_sample)\n",
    "    if dist=='chisquare':\n",
    "        d=np.random.chisquare(df=3+int(5*random_var),size=n_sample)\n",
    "    if dist=='gamma':\n",
    "        d=np.random.gamma(shape=1.0+random_var,scale=0.5+random_var,size=n_sample)\n",
    "    if dist=='beta':\n",
    "        d=np.random.beta(a=0.5+random_var,b=1.0+random_var,size=n_sample)\n",
    "    if dist=='triangular':\n",
    "        d=np.random.triangular(left=0.0,mode=np.min([0.5+random_var,1.0]),right=1.0,size=n_sample)\n",
    "    if dist=='lognormal':\n",
    "        d=np.random.lognormal(mean=1-random_var,sigma=1+random_var,size=n_sample)\n",
    "    if dist=='laplace':\n",
    "        d=np.random.laplace(scale=0.5+random_var,size=n_sample)\n",
    "        \n",
    "    # Normalize data\n",
    "    d = d+np.abs(d.min())\n",
    "    d = d/(d.max()-d.min())\n",
    "    \n",
    "    return d"
   ]
  },
  {
   "cell_type": "code",
   "execution_count": null,
   "metadata": {
    "scrolled": false
   },
   "outputs": [],
   "source": [
    "for r in [0.1,0.2,0.3,0.4,0.5]:\n",
    "    test=gen_data(dist='beta',random_var=r)+gen_data(dist='exponential',random_var=r)\n",
    "    sns.kdeplot(test,lw=2,c=np.random.choice(['k','orange','blue','green','red']))\n",
    "    plt.grid(True)\n",
    "plt.show()"
   ]
  },
  {
   "cell_type": "code",
   "execution_count": null,
   "metadata": {},
   "outputs": [],
   "source": [
    "dist_list=['uniform','normal','binomial','exponential','poisson','chisquare','gamma','beta','triangular','lognormal','laplace']"
   ]
  },
  {
   "cell_type": "code",
   "execution_count": null,
   "metadata": {
    "scrolled": false
   },
   "outputs": [],
   "source": [
    "for d in dist_list:\n",
    "    data = gen_data(n_sample=1000,dist=d)\n",
    "    plt.title(f\"Plot of {d}\",fontsize=15)\n",
    "    sns.kdeplot(data,lw=3,c='k')\n",
    "    plt.grid(True)\n",
    "    plt.show()"
   ]
  },
  {
   "cell_type": "markdown",
   "metadata": {},
   "source": [
    "### Function to generate histograms and write to a DataFrame"
   ]
  },
  {
   "cell_type": "code",
   "execution_count": 3,
   "metadata": {},
   "outputs": [],
   "source": [
    "def gen_dist_df(n_input=5,n_sample=200,bins=10):\n",
    "    \"\"\"\n",
    "    Generates randomized data sets calling gen_data with various distributions and put them in a DataFrame\n",
    "    \"\"\"\n",
    "    import pandas as pd\n",
    "    \n",
    "    df_data={}\n",
    "    df_data['Data']=[]\n",
    "    df_data['Histogram']=[]\n",
    "    df_data['Type']=[]\n",
    "    df_data['TypeNum']=[]\n",
    "    dist_list=['uniform','normal','binomial','exponential','poisson','chisquare',\\\n",
    "               'gamma','beta','triangular','lognormal','laplace']\n",
    "    for i in range(n_input):\n",
    "        r=np.random.random()\n",
    "        dist=np.random.choice(dist_list)\n",
    "        dist_num=dist_list.index(dist)+1\n",
    "        d=gen_data(n_sample=n_sample,dist=dist,random_var=r)\n",
    "        d=d.reshape(n_sample,)\n",
    "        df_data['Data'].append(d)\n",
    "        # Add histogram bin array after range scaling\n",
    "        hist=np.histogram(d,bins=bins)[0]\n",
    "        bins=len(hist)\n",
    "        hist=(hist-hist.min())/(hist.max()-hist.min())\n",
    "        # Reshape for proper input dimension to the NN\n",
    "        hist=hist.reshape(bins,)\n",
    "        df_data['Histogram'].append(hist)\n",
    "        df_data['Type'].append(dist)\n",
    "        df_data['TypeNum'].append(dist_num)\n",
    "        \n",
    "    df_data=pd.DataFrame(df_data)\n",
    "        \n",
    "    return df_data"
   ]
  },
  {
   "cell_type": "code",
   "execution_count": 4,
   "metadata": {},
   "outputs": [],
   "source": [
    "n_input=100\n",
    "n_sample=100\n",
    "n_bins=10"
   ]
  },
  {
   "cell_type": "code",
   "execution_count": 5,
   "metadata": {},
   "outputs": [],
   "source": [
    "df=gen_dist_df(n_input=n_input,n_sample=n_sample,bins=n_bins)"
   ]
  },
  {
   "cell_type": "code",
   "execution_count": 6,
   "metadata": {},
   "outputs": [
    {
     "data": {
      "text/html": [
       "<div>\n",
       "<style scoped>\n",
       "    .dataframe tbody tr th:only-of-type {\n",
       "        vertical-align: middle;\n",
       "    }\n",
       "\n",
       "    .dataframe tbody tr th {\n",
       "        vertical-align: top;\n",
       "    }\n",
       "\n",
       "    .dataframe thead th {\n",
       "        text-align: right;\n",
       "    }\n",
       "</style>\n",
       "<table border=\"1\" class=\"dataframe\">\n",
       "  <thead>\n",
       "    <tr style=\"text-align: right;\">\n",
       "      <th></th>\n",
       "      <th>Data</th>\n",
       "      <th>Histogram</th>\n",
       "      <th>Type</th>\n",
       "      <th>TypeNum</th>\n",
       "    </tr>\n",
       "  </thead>\n",
       "  <tbody>\n",
       "    <tr>\n",
       "      <th>0</th>\n",
       "      <td>[0.6427368222687841, 0.7483650606240564, 0.679...</td>\n",
       "      <td>[0.7692307692307693, 1.0, 0.8461538461538461, ...</td>\n",
       "      <td>beta</td>\n",
       "      <td>8</td>\n",
       "    </tr>\n",
       "    <tr>\n",
       "      <th>1</th>\n",
       "      <td>[1.0, 1.2857142857142858, 1.2857142857142858, ...</td>\n",
       "      <td>[0.08, 0.2, 0.68, 0.0, 0.92, 1.0, 0.0, 0.8, 0....</td>\n",
       "      <td>binomial</td>\n",
       "      <td>3</td>\n",
       "    </tr>\n",
       "    <tr>\n",
       "      <th>2</th>\n",
       "      <td>[0.4, 0.2, 0.2, 0.2, 0.0, 0.6, 0.8, 0.4, 0.6, ...</td>\n",
       "      <td>[0.4594594594594595, 0.0, 1.0, 0.0, 0.64864864...</td>\n",
       "      <td>poisson</td>\n",
       "      <td>5</td>\n",
       "    </tr>\n",
       "    <tr>\n",
       "      <th>3</th>\n",
       "      <td>[0.35753346975730266, 0.39521414539390387, 0.3...</td>\n",
       "      <td>[0.05555555555555555, 0.0, 0.16666666666666666...</td>\n",
       "      <td>triangular</td>\n",
       "      <td>9</td>\n",
       "    </tr>\n",
       "    <tr>\n",
       "      <th>4</th>\n",
       "      <td>[1.1428571428571428, 1.4285714285714286, 1.0, ...</td>\n",
       "      <td>[0.03571428571428571, 0.17857142857142858, 0.4...</td>\n",
       "      <td>binomial</td>\n",
       "      <td>3</td>\n",
       "    </tr>\n",
       "  </tbody>\n",
       "</table>\n",
       "</div>"
      ],
      "text/plain": [
       "                                                Data  \\\n",
       "0  [0.6427368222687841, 0.7483650606240564, 0.679...   \n",
       "1  [1.0, 1.2857142857142858, 1.2857142857142858, ...   \n",
       "2  [0.4, 0.2, 0.2, 0.2, 0.0, 0.6, 0.8, 0.4, 0.6, ...   \n",
       "3  [0.35753346975730266, 0.39521414539390387, 0.3...   \n",
       "4  [1.1428571428571428, 1.4285714285714286, 1.0, ...   \n",
       "\n",
       "                                           Histogram        Type  TypeNum  \n",
       "0  [0.7692307692307693, 1.0, 0.8461538461538461, ...        beta        8  \n",
       "1  [0.08, 0.2, 0.68, 0.0, 0.92, 1.0, 0.0, 0.8, 0....    binomial        3  \n",
       "2  [0.4594594594594595, 0.0, 1.0, 0.0, 0.64864864...     poisson        5  \n",
       "3  [0.05555555555555555, 0.0, 0.16666666666666666...  triangular        9  \n",
       "4  [0.03571428571428571, 0.17857142857142858, 0.4...    binomial        3  "
      ]
     },
     "execution_count": 6,
     "metadata": {},
     "output_type": "execute_result"
    }
   ],
   "source": [
    "df.head()"
   ]
  },
  {
   "cell_type": "markdown",
   "metadata": {},
   "source": [
    "## Logistic regression"
   ]
  },
  {
   "cell_type": "code",
   "execution_count": 7,
   "metadata": {},
   "outputs": [],
   "source": [
    "from sklearn import linear_model\n",
    "from sklearn.model_selection import train_test_split"
   ]
  },
  {
   "cell_type": "code",
   "execution_count": 8,
   "metadata": {},
   "outputs": [],
   "source": [
    "n_input=500\n",
    "n_sample=100\n",
    "n_bins=10"
   ]
  },
  {
   "cell_type": "markdown",
   "metadata": {},
   "source": [
    "### Function to run simple logistic regression - returns the test score"
   ]
  },
  {
   "cell_type": "code",
   "execution_count": 9,
   "metadata": {},
   "outputs": [],
   "source": [
    "def run_logreg(n_input=200,n_sample=100,bins=10,test_frac=0.2):\n",
    "    \"\"\"\n",
    "    \"\"\"\n",
    "    from sklearn import linear_model\n",
    "    from sklearn.model_selection import train_test_split\n",
    "    \n",
    "    logreg=linear_model.LogisticRegression(C=1e5)\n",
    "    df=gen_dist_df(n_input=n_input,n_sample=n_sample,bins=bins)\n",
    "    X=[]\n",
    "    for i in range(n_input):\n",
    "        X.append(df['Histogram'][i])\n",
    "    X=np.array(X)\n",
    "    y=df['TypeNum']\n",
    "    X_train, X_test, y_train, y_test = train_test_split(X, y, test_size=test_frac)\n",
    "    logreg.fit(X_train,y_train)\n",
    "    score=logreg.score(X_test,y_test)\n",
    "    \n",
    "    return score"
   ]
  },
  {
   "cell_type": "code",
   "execution_count": 12,
   "metadata": {},
   "outputs": [
    {
     "name": "stderr",
     "output_type": "stream",
     "text": [
      "100%|██████████████████████████████████████████████████████████████████████████████████| 42/42 [00:07<00:00,  5.93it/s]\n"
     ]
    },
    {
     "data": {
      "image/png": "[encoded data removed]",
      "text/plain": [
       "<matplotlib.figure.Figure at 0x152fe738080>"
      ]
     },
     "metadata": {},
     "output_type": "display_data"
    }
   ],
   "source": [
    "from tqdm import tqdm\n",
    "logmodel_scores=[]\n",
    "inputs=[]\n",
    "for i in tqdm(range(50,1100,25)):\n",
    "    logmodel_scores.append(run_logreg(n_input=i,n_sample=500))\n",
    "    inputs.append(i)\n",
    "plt.plot(inputs,logmodel_scores)\n",
    "plt.title(\"Input data sets vs. model accuracy\")\n",
    "plt.xlabel(\"Number of input data sets\")\n",
    "plt.show()"
   ]
  },
  {
   "cell_type": "code",
   "execution_count": 13,
   "metadata": {},
   "outputs": [
    {
     "name": "stderr",
     "output_type": "stream",
     "text": [
      "100%|██████████████████████████████████████████████████████████████████████████████████| 42/42 [00:06<00:00,  6.22it/s]\n"
     ]
    },
    {
     "data": {
      "image/png": "[encoded data removed]",
      "text/plain": [
       "<matplotlib.figure.Figure at 0x152fe79bb38>"
      ]
     },
     "metadata": {},
     "output_type": "display_data"
    }
   ],
   "source": [
    "from tqdm import tqdm\n",
    "logmodel_scores=[]\n",
    "samples=[]\n",
    "for i in tqdm(range(50,1100,25)):\n",
    "    logmodel_scores.append(run_logreg(n_input=500,n_sample=i))\n",
    "    samples.append(i)\n",
    "plt.plot(samples,logmodel_scores)\n",
    "plt.title(\"Number of random samples vs. model accuracy\")\n",
    "plt.xlabel(\"Number of random samples\")\n",
    "plt.show()"
   ]
  },
  {
   "cell_type": "code",
   "execution_count": 14,
   "metadata": {},
   "outputs": [
    {
     "name": "stderr",
     "output_type": "stream",
     "text": [
      "100%|██████████████████████████████████████████████████████████████████████████████████| 21/21 [00:03<00:00,  5.26it/s]\n"
     ]
    },
    {
     "data": {
      "image/png": "[encoded data removed]",
      "text/plain": [
       "<matplotlib.figure.Figure at 0x152fe6cc208>"
      ]
     },
     "metadata": {},
     "output_type": "display_data"
    }
   ],
   "source": [
    "from tqdm import tqdm\n",
    "logmodel_scores=[]\n",
    "bins=[]\n",
    "for i in tqdm(range(10,52,2)):\n",
    "    logmodel_scores.append(run_logreg(n_input=500,n_sample=500,bins=i))\n",
    "    bins.append(i)\n",
    "plt.plot(bins,logmodel_scores)\n",
    "plt.title(\"Number of bins vs. model accuracy\")\n",
    "plt.xlabel(\"Number of bins\")\n",
    "plt.show()"
   ]
  },
  {
   "cell_type": "markdown",
   "metadata": {},
   "source": [
    "## Neural Network"
   ]
  },
  {
   "cell_type": "code",
   "execution_count": 15,
   "metadata": {},
   "outputs": [
    {
     "name": "stderr",
     "output_type": "stream",
     "text": [
      "c:\\users\\tirtha\\python\\anaconda3\\lib\\site-packages\\h5py\\__init__.py:34: FutureWarning: Conversion of the second argument of issubdtype from `float` to `np.floating` is deprecated. In future, it will be treated as `np.float64 == np.dtype(float).type`.\n",
      "  from ._conv import register_converters as _register_converters\n",
      "Using TensorFlow backend.\n"
     ]
    }
   ],
   "source": [
    "import keras\n",
    "from keras.utils import np_utils\n",
    "from keras.models import Sequential\n",
    "from keras.layers import Dense, Dropout"
   ]
  },
  {
   "cell_type": "code",
   "execution_count": 16,
   "metadata": {},
   "outputs": [],
   "source": [
    "n_input=500\n",
    "n_sample=100\n",
    "n_bins=10"
   ]
  },
  {
   "cell_type": "markdown",
   "metadata": {},
   "source": [
    "### Function to prepare the input - generate train and test splits and validation set"
   ]
  },
  {
   "cell_type": "code",
   "execution_count": 17,
   "metadata": {},
   "outputs": [],
   "source": [
    "def prepare_NN_input(df,test_frac=0.2,val_frac=0.5):\n",
    "    \"\"\"\n",
    "    \"\"\"\n",
    "    \n",
    "    from sklearn.preprocessing import LabelEncoder\n",
    "    from sklearn.model_selection import train_test_split\n",
    "    \n",
    "    n_input=df.shape[0]\n",
    "    y=df['Type']\n",
    "    num_classes = len(df['Type'].unique())\n",
    "    encoder = LabelEncoder()\n",
    "    encoder.fit(y)\n",
    "    encoded_y = encoder.transform(y)\n",
    "    # convert integers to dummy variables (i.e. one hot encoded)\n",
    "    dummy_y = np_utils.to_categorical(encoded_y)\n",
    "    y = keras.utils.to_categorical(encoded_y,num_classes=num_classes)\n",
    "    \n",
    "    X=[]\n",
    "    for i in range(n_input):\n",
    "        X.append(df['Histogram'][i])\n",
    "    X=np.array(X)\n",
    "    X_train, X_test, y_train, y_test = train_test_split(X, y, test_size=test_frac)\n",
    "    X_train, X_val, y_train, y_val = train_test_split(X_train, y_train, test_size=val_frac)\n",
    "    input_dim=X.shape[1]\n",
    "    \n",
    "    return (X,y,X_train,y_train,X_test,y_test,X_val,y_val,input_dim,num_classes)"
   ]
  },
  {
   "cell_type": "markdown",
   "metadata": {},
   "source": [
    "### Function to construct the model"
   ]
  },
  {
   "cell_type": "code",
   "execution_count": 18,
   "metadata": {},
   "outputs": [],
   "source": [
    "def make_NN_model(input_dim, num_classes, neuron_layer_1=20, neuron_layer_2=10, dropout_prob=0.25, \\\n",
    "                  activation_func='relu', learning_rate=0.01):\n",
    "    \"\"\"\n",
    "    Creates a 2-hidden-layer Keras Neural Network model by adding densely connected layers, \\\n",
    "    dropout layers, and an output layer with 'softmax' activation with appropriate number of nodes for classification\n",
    "    \"\"\"\n",
    "    model = Sequential()\n",
    "    model.add(Dense(neuron_layer_1, input_shape=(input_dim,),activation=activation_func))\n",
    "    model.add(Dropout(dropout_prob))\n",
    "    model.add(Dense(neuron_layer_2,activation=activation_func))\n",
    "    #model.add(Dense(50,activation='relu'))\n",
    "    model.add(Dropout(dropout_prob))\n",
    "    # Softmax activation for the last layer for classification\n",
    "    model.add(Dense(num_classes, activation='softmax'))\n",
    "    \n",
    "    optimizer=keras.optimizers.SGD(lr=learning_rate)\n",
    "    model.compile(loss='categorical_crossentropy', optimizer=optimizer,metrics=['accuracy'])\n",
    "    \n",
    "    return model"
   ]
  },
  {
   "cell_type": "markdown",
   "metadata": {},
   "source": [
    "### Function to run the model"
   ]
  },
  {
   "cell_type": "code",
   "execution_count": 25,
   "metadata": {},
   "outputs": [],
   "source": [
    "def run_NN(model,X_train,y_train,X_val,y_val,num_epochs=200,batch_size=16,plot_loss=False):\n",
    "    # save best model as checkpointer\n",
    "    #checkpointer = ModelCheckpoint(filepath='model.weights.best.hdf5', verbose=0, save_best_only=True)\n",
    "    \n",
    "    # train the model\n",
    "    hist = model.fit(X_train, y_train, batch_size=batch_size, epochs=num_epochs,\n",
    "              validation_data=(X_val, y_val), \n",
    "              verbose=0, shuffle=False)\n",
    "    \n",
    "    if plot_loss:\n",
    "        plt.plot(hist.history['val_acc'],color='k')\n",
    "        plt.title(\"Validation set accuracy\",fontsize=15)\n",
    "        plt.grid(True)\n",
    "        plt.xlabel(\"Epochs\",fontsize=14)\n",
    "        plt.show()\n",
    "    \n",
    "    return hist"
   ]
  },
  {
   "cell_type": "markdown",
   "metadata": {},
   "source": [
    "### Function to test the model performance"
   ]
  },
  {
   "cell_type": "code",
   "execution_count": 26,
   "metadata": {},
   "outputs": [],
   "source": [
    "def test_NN(hist,X_test,y_test):\n",
    "    \"\"\"\n",
    "    Test a NN model with test data set for accuracy\n",
    "    hist: A History object generated by the Keras model fitting process\n",
    "    \"\"\"\n",
    "    score=hist.model.evaluate(X_test, y_test,verbose=0)[1]\n",
    "    return score"
   ]
  },
  {
   "cell_type": "code",
   "execution_count": 27,
   "metadata": {},
   "outputs": [
    {
     "name": "stderr",
     "output_type": "stream",
     "text": [
      "100%|██████████████████████████████████████████████████████████████████████████████████| 21/21 [03:13<00:00,  9.23s/it]\n"
     ]
    },
    {
     "name": "stdout",
     "output_type": "stream",
     "text": [
      "\n"
     ]
    },
    {
     "data": {
      "image/png": "[encoded data removed]",
      "text/plain": [
       "<matplotlib.figure.Figure at 0x15295597dd8>"
      ]
     },
     "metadata": {},
     "output_type": "display_data"
    }
   ],
   "source": [
    "from tqdm import tqdm\n",
    "nnmodel_scores=[]\n",
    "bins=[]\n",
    "loop=0\n",
    "for i in tqdm(range(10,52,2)):\n",
    "    df=gen_dist_df(n_input=500,n_sample=500,bins=i)\n",
    "    X,y,X_train,y_train,X_test,y_test,X_val,y_val,input_dim,num_classes=prepare_NN_input(df)\n",
    "    model=make_NN_model(input_dim=input_dim, num_classes=num_classes)\n",
    "    hist=run_NN(model=model,X_train=X_train,y_train=y_train,X_val=X_val,y_val=y_val)\n",
    "    score=test_NN(hist=hist,X_test=X_test,y_test=y_test)\n",
    "    nnmodel_scores.append(score)\n",
    "    loop+=1\n",
    "    bins.append(i)\n",
    "    #print(f\"Finished {loop} run\")\n",
    "\n",
    "print()\n",
    "plt.plot(bins,nnmodel_scores)\n",
    "plt.show()"
   ]
  },
  {
   "cell_type": "code",
   "execution_count": 28,
   "metadata": {},
   "outputs": [
    {
     "name": "stderr",
     "output_type": "stream",
     "text": [
      "100%|██████████████████████████████████████████████████████████████████████████████████| 42/42 [09:22<00:00, 13.40s/it]\n"
     ]
    },
    {
     "name": "stdout",
     "output_type": "stream",
     "text": [
      "\n"
     ]
    },
    {
     "data": {
      "image/png": "[encoded data removed]",
      "text/plain": [
       "<matplotlib.figure.Figure at 0x152fe7b1b70>"
      ]
     },
     "metadata": {},
     "output_type": "display_data"
    }
   ],
   "source": [
    "from tqdm import tqdm\n",
    "nnmodel_scores=[]\n",
    "inputs=[]\n",
    "loop=0\n",
    "for i in tqdm(range(50,1100,25)):\n",
    "    df=gen_dist_df(n_input=i,n_sample=500,bins=20)\n",
    "    X,y,X_train,y_train,X_test,y_test,X_val,y_val,input_dim,num_classes=prepare_NN_input(df)\n",
    "    model=make_NN_model(input_dim=input_dim, num_classes=num_classes)\n",
    "    hist=run_NN(model=model,X_train=X_train,y_train=y_train,X_val=X_val,y_val=y_val)\n",
    "    score=test_NN(hist=hist,X_test=X_test,y_test=y_test)\n",
    "    nnmodel_scores.append(score)\n",
    "    loop+=1\n",
    "    inputs.append(i)\n",
    "    #print(f\"Finished {loop} run\")\n",
    "\n",
    "print()\n",
    "plt.plot(inputs,nnmodel_scores)\n",
    "plt.show()"
   ]
  },
  {
   "cell_type": "code",
   "execution_count": 30,
   "metadata": {},
   "outputs": [
    {
     "name": "stderr",
     "output_type": "stream",
     "text": [
      "100%|██████████████████████████████████████████████████████████████████████████████████| 42/42 [15:07<00:00, 21.60s/it]\n"
     ]
    },
    {
     "name": "stdout",
     "output_type": "stream",
     "text": [
      "\n"
     ]
    },
    {
     "data": {
      "image/png": "[encoded data removed]",
      "text/plain": [
       "<matplotlib.figure.Figure at 0x152fe6667f0>"
      ]
     },
     "metadata": {},
     "output_type": "display_data"
    }
   ],
   "source": [
    "from tqdm import tqdm\n",
    "nnmodel_scores=[]\n",
    "samples=[]\n",
    "loop=0\n",
    "for i in tqdm(range(50,1100,25)):\n",
    "    df=gen_dist_df(n_input=500,n_sample=i,bins=20)\n",
    "    X,y,X_train,y_train,X_test,y_test,X_val,y_val,input_dim,num_classes=prepare_NN_input(df)\n",
    "    model=make_NN_model(input_dim=input_dim, num_classes=num_classes,neuron_layer_1=40,neuron_layer_2=20)\n",
    "    hist=run_NN(model=model,X_train=X_train,y_train=y_train,X_val=X_val,y_val=y_val)\n",
    "    score=test_NN(hist=hist,X_test=X_test,y_test=y_test)\n",
    "    nnmodel_scores.append(score)\n",
    "    loop+=1\n",
    "    samples.append(i)\n",
    "    #print(f\"Finished {loop} run\")\n",
    "\n",
    "print()\n",
    "plt.plot(samples,nnmodel_scores)\n",
    "plt.title(\"Number of random samples vs. model accuracy\")\n",
    "plt.xlabel(\"Number of random samples\")\n",
    "plt.show()"
   ]
  },
  {
   "cell_type": "code",
   "execution_count": null,
   "metadata": {},
   "outputs": [],
   "source": []
  }
 ],
 "metadata": {
  "kernelspec": {
   "display_name": "Python 3",
   "language": "python",
   "name": "python3"
  },
  "language_info": {
   "codemirror_mode": {
    "name": "ipython",
    "version": 3
   },
   "file_extension": ".py",
   "mimetype": "text/x-python",
   "name": "python",
   "nbconvert_exporter": "python",
   "pygments_lexer": "ipython3",
   "version": "3.6.2"
  },
  "latex_envs": {
   "LaTeX_envs_menu_present": true,
   "autoclose": false,
   "autocomplete": true,
   "bibliofile": "biblio.bib",
   "cite_by": "apalike",
   "current_citInitial": 1,
   "eqLabelWithNumbers": true,
   "eqNumInitial": 1,
   "hotkeys": {
    "equation": "Ctrl-E",
    "itemize": "Ctrl-I"
   },
   "labels_anchors": false,
   "latex_user_defs": false,
   "report_style_numbering": false,
   "user_envs_cfg": false
  }
 },
 "nbformat": 4,
 "nbformat_minor": 2
}
